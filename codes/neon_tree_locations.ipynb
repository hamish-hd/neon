{
 "cells": [
  {
   "cell_type": "code",
   "execution_count": null,
   "id": "ef27fdef-930d-4cf6-a4bf-0acbc0ce2463",
   "metadata": {},
   "outputs": [],
   "source": [
    "#%% Tree locations\n",
    "import geopandas as gpd\n",
    "import pandas as pd\n",
    "from shapely.geometry import Point\n",
    "import math\n",
    "import os\n",
    "from shapely.wkt import loads\n",
    "import datetime"
   ]
  },
  {
   "cell_type": "code",
   "execution_count": null,
   "id": "4e3fea3e-030d-4b08-aa61-356dfdcd4648",
   "metadata": {},
   "outputs": [],
   "source": [
    "def calculate_tree_location(origin_point, azimuth, distance):\n",
    "    azimuth_rad = math.radians(azimuth)\n",
    "    delta_lat = distance * math.cos(azimuth_rad)\n",
    "    delta_lon = distance * math.sin(azimuth_rad)\n",
    "    new_lat = origin_point.y + (delta_lat / 111111)  \n",
    "    new_lon = origin_point.x + (delta_lon / (111111 * math.cos(math.radians(origin_point.y))))\n",
    "    return Point(new_lon, new_lat)"
   ]
  },
  {
   "cell_type": "code",
   "execution_count": null,
   "id": "a597a073-c51b-4fc8-b7cc-8d1b7f807415",
   "metadata": {},
   "outputs": [],
   "source": [
    "neon_plotpoints = input(\"Enter the path to the shapefile containing plot and points for all NEON sites: \")\n",
    "#Give the shapefile that has plot and points of all NEON sites"
   ]
  },
  {
   "cell_type": "code",
   "execution_count": null,
   "id": "881d1d2f-cfd5-4590-aa5e-947e860bbe3f",
   "metadata": {},
   "outputs": [],
   "source": [
    "plot_points = gpd.read_file(neon_plotpoints)\n",
    "plot_points = plot_points.to_crs(epsg = 4326)"
   ]
  },
  {
   "cell_type": "code",
   "execution_count": null,
   "id": "128fede3-0b1f-48b1-b6e9-cf4e89564304",
   "metadata": {},
   "outputs": [],
   "source": [
    "############\n",
    "struct_plant_dir = input(\"Enter the path to the NEON_struct-plant directory: \")\n",
    "#Directory of plant structure"
   ]
  },
  {
   "cell_type": "code",
   "execution_count": null,
   "id": "2d320509-5b36-43d7-999f-bf5a83dd7626",
   "metadata": {},
   "outputs": [],
   "source": [
    "merged_df = pd.DataFrame()\n",
    "\n",
    "for root, dirs, files in os.walk(struct_plant_dir):\n",
    "    for file in files:\n",
    "        if file.endswith('.csv') and 'mappingandtagging' in file:\n",
    "            file_path = os.path.join(root, file)\n",
    "            \n",
    "            df = pd.read_csv(file_path)\n",
    "            df = df.dropna(subset=['pointID'])\n",
    "            \n",
    "            df['pointID'] = df['pointID'].astype(int)\n",
    "            \n",
    "            df['plot_point'] = df['plotID'].astype(str) + '_' + df['pointID'].astype(str)\n",
    "            \n",
    "            # Append the DataFrame to the merged_df\n",
    "            maptag = pd.concat([merged_df, df], ignore_index=True)\n",
    "\n",
    "maptag.drop_duplicates(inplace=True)\n",
    "\n",
    "print(maptag)"
   ]
  },
  {
   "cell_type": "code",
   "execution_count": null,
   "id": "864cde47-8daa-4c01-914f-ff67e3b8aed1",
   "metadata": {},
   "outputs": [],
   "source": [
    "#############\n",
    "merged_data = pd.merge(plot_points, maptag, on='plot_point')\n",
    "\n",
    "merged_data['geometry'] = merged_data.apply(lambda row: calculate_tree_location(row['geometry'], row['stemAzimuth'], row['stemDistance']), axis=1)\n",
    "tree_locations = merged_data[['plot_point', 'geometry','individualID']]\n",
    "#########################\n",
    "merged_df = pd.DataFrame()\n",
    "\n",
    "for root, dirs, files in os.walk(struct_plant_dir):\n",
    "    for file in files:\n",
    "        if file.endswith('.csv') and 'apparentindividual' in file:\n",
    "            file_path = os.path.join(root, file)\n",
    "            \n",
    "            df = pd.read_csv(file_path)\n",
    "            df = df.dropna(subset=['tagStatus'])\n",
    "            tree_measurements = pd.concat([merged_df, df], ignore_index=True)\n",
    "\n",
    "tree_measurements.drop_duplicates(inplace=True)\n",
    "\n",
    "print(tree_measurements)\n",
    "########################"
   ]
  },
  {
   "cell_type": "code",
   "execution_count": null,
   "id": "fb36029f-15fb-4a39-a29c-db5050c2f5eb",
   "metadata": {},
   "outputs": [],
   "source": [
    "n = gpd.GeoDataFrame(pd.merge(tree_locations, tree_measurements, on='individualID', how='inner'))\n",
    "#############\n",
    "current_datetime = datetime.datetime.now().strftime(\"%Y%m%d_%H%M%S\")\n",
    "\n",
    "n.crs = 'EPSG:4326'\n",
    "\n",
    "shapefile_path = os.path.join(os.path.dirname(os.path.dirname(struct_plant_dir)), f'tree_locations_{current_datetime}.shp')\n",
    "csv_path = os.path.join(os.path.dirname(os.path.dirname(struct_plant_dir)), f'tree_locations_{current_datetime}.csv')\n",
    "\n",
    "n.to_file(shapefile_path, driver='ESRI Shapefile')\n",
    "print(f\"Tree locations exported to Shapefile: {shapefile_path}\")\n",
    "\n",
    "n.to_csv(csv_path, index=False)\n",
    "\n",
    "print(f\"Tree locations exported to CSV: {csv_path}\")"
   ]
  },
  {
   "cell_type": "code",
   "execution_count": null,
   "id": "2eaa7646-20ec-424c-969f-6b1f99f48f91",
   "metadata": {},
   "outputs": [],
   "source": []
  }
 ],
 "metadata": {
  "kernelspec": {
   "display_name": "Python 3 (ipykernel)",
   "language": "python",
   "name": "python3"
  },
  "language_info": {
   "codemirror_mode": {
    "name": "ipython",
    "version": 3
   },
   "file_extension": ".py",
   "mimetype": "text/x-python",
   "name": "python",
   "nbconvert_exporter": "python",
   "pygments_lexer": "ipython3",
   "version": "3.11.5"
  }
 },
 "nbformat": 4,
 "nbformat_minor": 5
}
